{
 "cells": [
  {
   "cell_type": "markdown",
   "metadata": {},
   "source": [
    "# Introduction to tf-shell\n",
    "\n",
    "To get started, `pip install tf-shell`. tf-shell has a few modules, the one used\n",
    "in this notebook is `tf_shell`."
   ]
  },
  {
   "cell_type": "code",
   "execution_count": 2,
   "metadata": {},
   "outputs": [],
   "source": [
    "import tf_shell"
   ]
  },
  {
   "cell_type": "markdown",
   "metadata": {},
   "source": [
    "First set up some parameters for the BGV encryption scheme and generate a secret\n",
    "key.\n",
    "\n",
    "- `log_n` coresponds to the ring degree.\n",
    "- `main_moduli` are a product of primes, less than 60 bits, that define the main\n",
    "modulus. tf-shell uses RNS representation over each of these moduli.\n",
    "- `scaling_factor` is used to encode fractional numbers, e.g. the number 1.5\n",
    "with a scaling factor of 2 will be represented as 3.\n",
    "- `mul_depth_supported` is for debugging purposes. The other parameters are\n",
    "highly sensitive to the multiplication depth of the computation and tf-shell\n",
    "will check that the multiplication depth is not exceeded during the computation."
   ]
  },
  {
   "cell_type": "code",
   "execution_count": 3,
   "metadata": {},
   "outputs": [],
   "source": [
    "context = tf_shell.create_context64(\n",
    "    log_n=10,\n",
    "    main_moduli=[8556589057, 8388812801],\n",
    "    plaintext_modulus=40961,\n",
    "    scaling_factor=3,\n",
    "    mul_depth_supported=3,\n",
    "    seed=\"test_seed\",\n",
    ")\n",
    "\n",
    "secret_key = tf_shell.create_key64(context)"
   ]
  },
  {
   "cell_type": "markdown",
   "metadata": {},
   "source": [
    "Next, encrypt something. tf-shell currently uses batch-axis packing, meaning the\n",
    "outer dimension of all tensors is the packing dimension of the BGV scheme. This\n",
    "is for efficiency purposes and, in short, means the first dimension of all\n",
    "tensors is 2^log_n defined above.\n",
    "\n",
    "The cost of operating on a ciphertext (e.g. addition), regardless of how \"full\"\n",
    "the first dimension is, is the same."
   ]
  },
  {
   "cell_type": "code",
   "execution_count": 4,
   "metadata": {},
   "outputs": [
    {
     "name": "stdout",
     "output_type": "stream",
     "text": [
      "The first 3 elements of the data are [0.62601924 4.461747   5.8008575 ]\n"
     ]
    }
   ],
   "source": [
    "import tensorflow as tf\n",
    "tf_data = tf.random.uniform([context.num_slots, 2], dtype=tf.float32, maxval=10)\n",
    "print(f\"The first 3 elements of the data are {tf_data[:3, 0]}\")\n",
    "\n",
    "enc = tf_shell.to_encrypted(tf_data, secret_key, context)"
   ]
  },
  {
   "cell_type": "markdown",
   "metadata": {},
   "source": [
    "Next, perform some homomorphic operations on the ciphertexts. tf-shell can\n",
    "perform addition, subtraction, and multiplication on ciphertexts, shell\n",
    "plaintexts, and tensorflow tensors."
   ]
  },
  {
   "cell_type": "code",
   "execution_count": 5,
   "metadata": {},
   "outputs": [],
   "source": [
    "# Ciphertext . scalar\n",
    "ct_scalar_add = enc + 3\n",
    "ct_scalar_mul = enc * 3\n",
    "\n",
    "# Ciphertext . tensorflow tensor\n",
    "three = tf.constant(3, dtype=tf.float32)\n",
    "ct_tf_add = enc + three\n",
    "ct_tf_mul = enc * three\n",
    "\n",
    "# Ciphertext . plaintext\n",
    "three_repeated = tf.ones([context.num_slots, 1], dtype=tf.float32) * 3\n",
    "three_repeated = tf_shell.to_shell_plaintext(three_repeated, context)\n",
    "ct_pt_add = enc + three_repeated\n",
    "ct_pt_mul = enc * three_repeated\n",
    "\n",
    "# ciphertext . ciphertext\n",
    "ct_ct_add = enc + enc\n",
    "ct_ct_mul = enc * enc"
   ]
  },
  {
   "cell_type": "markdown",
   "metadata": {},
   "source": [
    "Finally, let's decrypt the results using the secret key."
   ]
  },
  {
   "cell_type": "code",
   "execution_count": 6,
   "metadata": {},
   "outputs": [
    {
     "name": "stdout",
     "output_type": "stream",
     "text": [
      "enc:       [0.6666667 4.3333335 5.6666665]\n",
      "enc + enc: [ 1.3333334  8.666667  11.333333 ]\n",
      "enc * enc: [ 0.44444445 18.777779   32.11111   ]\n"
     ]
    }
   ],
   "source": [
    "dec = tf_shell.to_tensorflow(enc, secret_key)\n",
    "add = tf_shell.to_tensorflow(ct_ct_add, secret_key)\n",
    "mul = tf_shell.to_tensorflow(ct_ct_mul, secret_key)\n",
    "\n",
    "print(f\"enc:       {dec[:3, 0]}\")\n",
    "print(f\"enc + enc: {add[:3, 0]}\")\n",
    "print(f\"enc * enc: {mul[:3, 0]}\")"
   ]
  }
 ],
 "metadata": {
  "kernelspec": {
   "display_name": ".venv",
   "language": "python",
   "name": "python3"
  },
  "language_info": {
   "codemirror_mode": {
    "name": "ipython",
    "version": 3
   },
   "file_extension": ".py",
   "mimetype": "text/x-python",
   "name": "python",
   "nbconvert_exporter": "python",
   "pygments_lexer": "ipython3",
   "version": "3.10.12"
  }
 },
 "nbformat": 4,
 "nbformat_minor": 2
}
