{
 "cells": [
  {
   "cell_type": "markdown",
   "metadata": {},
   "source": [
    "# Introduction to tf-shell\n",
    "\n",
    "To get started, `pip install tf-shell`. tf-shell has a few modules, the one used\n",
    "in this notebook is `tf_shell`."
   ]
  },
  {
   "cell_type": "code",
   "execution_count": 1,
   "metadata": {},
   "outputs": [
    {
     "name": "stderr",
     "output_type": "stream",
     "text": [
      "2024-10-29 18:41:45.349763: I tensorflow/core/util/port.cc:153] oneDNN custom operations are on. You may see slightly different numerical results due to floating-point round-off errors from different computation orders. To turn them off, set the environment variable `TF_ENABLE_ONEDNN_OPTS=0`.\n",
      "2024-10-29 18:41:45.375597: I tensorflow/core/platform/cpu_feature_guard.cc:210] This TensorFlow binary is optimized to use available CPU instructions in performance-critical operations.\n",
      "To enable the following instructions: AVX2 AVX512F AVX512_VNNI FMA, in other operations, rebuild TensorFlow with the appropriate compiler flags.\n"
     ]
    }
   ],
   "source": [
    "import tf_shell\n",
    "import tensorflow as tf"
   ]
  },
  {
   "cell_type": "markdown",
   "metadata": {},
   "source": [
    "First, set up some low level parameters for the BGV encryption scheme and\n",
    "generate a secret key. If you don't want to set these parameters yourself, see\n",
    "the `intro_with_auto_params.ipynb` notebook.\n",
    "\n",
    "- `log_n` coresponds to the ring degree.\n",
    "- `main_moduli` are a product of primes, less than 60 bits, that define the main\n",
    "modulus. tf-shell uses RNS representation over each of these moduli.\n",
    "- `scaling_factor` is used to encode fractional numbers, e.g. the number 1.5\n",
    "with a scaling factor of 2 will be represented as 3."
   ]
  },
  {
   "cell_type": "code",
   "execution_count": 2,
   "metadata": {},
   "outputs": [
    {
     "name": "stdout",
     "output_type": "stream",
     "text": [
      "INFO: Generating key\n"
     ]
    }
   ],
   "source": [
    "context = tf_shell.create_context64(\n",
    "    log_n=10,\n",
    "    main_moduli=[8556589057, 8388812801],\n",
    "    plaintext_modulus=40961,\n",
    "    scaling_factor=3,\n",
    "    seed=\"test_seed\",\n",
    ")\n",
    "\n",
    "secret_key = tf_shell.create_key64(context)"
   ]
  },
  {
   "cell_type": "markdown",
   "metadata": {},
   "source": [
    "Next, encrypt something. tf-shell treats the outer dimension of all tensors as\n",
    "the packing dimension of the BGV scheme. This is for efficiency purposes and, in\n",
    "short, means the first dimension of all tensors is 2^log_n as defined above.\n",
    "\n",
    "The cost of operating on a ciphertext (e.g. addition), regardless of how \"full\"\n",
    "the first dimension is, is the same."
   ]
  },
  {
   "cell_type": "code",
   "execution_count": 3,
   "metadata": {},
   "outputs": [
    {
     "name": "stdout",
     "output_type": "stream",
     "text": [
      "The first 3 elements of the data are [4.8077097 6.9659996 0.500679 ]\n"
     ]
    }
   ],
   "source": [
    "tf_data = tf.random.uniform([context.num_slots, 2], dtype=tf.float32, maxval=10)\n",
    "print(f\"The first 3 elements of the data are {tf_data[:3, 0]}\")\n",
    "\n",
    "enc = tf_shell.to_encrypted(tf_data, secret_key, context)"
   ]
  },
  {
   "cell_type": "markdown",
   "metadata": {},
   "source": [
    "Next, perform some homomorphic operations on the ciphertexts. tf-shell can\n",
    "perform addition, subtraction, and multiplication on ciphertexts, shell\n",
    "plaintexts, and tensorflow tensors."
   ]
  },
  {
   "cell_type": "code",
   "execution_count": 4,
   "metadata": {},
   "outputs": [],
   "source": [
    "# Ciphertext . scalar\n",
    "ct_scalar_add = enc + 3\n",
    "ct_scalar_mul = enc * 3\n",
    "\n",
    "# Ciphertext . tensorflow tensor\n",
    "three = tf.constant(3, dtype=tf.float32)\n",
    "ct_tf_add = enc + three\n",
    "ct_tf_mul = enc * three\n",
    "\n",
    "# Ciphertext . plaintext\n",
    "three_repeated = tf.ones([context.num_slots, 1], dtype=tf.float32) * 3\n",
    "three_repeated = tf_shell.to_shell_plaintext(three_repeated, context)\n",
    "ct_pt_add = enc + three_repeated\n",
    "ct_pt_mul = enc * three_repeated\n",
    "\n",
    "# ciphertext . ciphertext\n",
    "ct_ct_add = enc + enc\n",
    "ct_ct_mul = enc * enc"
   ]
  },
  {
   "cell_type": "markdown",
   "metadata": {},
   "source": [
    "Finally, let's decrypt the results using the secret key."
   ]
  },
  {
   "cell_type": "code",
   "execution_count": 5,
   "metadata": {},
   "outputs": [
    {
     "name": "stdout",
     "output_type": "stream",
     "text": [
      "enc:       [4.6666665 7.        0.6666667]\n",
      "enc + enc: [ 9.333333  14.         1.3333334]\n",
      "enc * enc: [21.777779   49.          0.44444445]\n"
     ]
    }
   ],
   "source": [
    "dec = tf_shell.to_tensorflow(enc, secret_key)\n",
    "add = tf_shell.to_tensorflow(ct_ct_add, secret_key)\n",
    "mul = tf_shell.to_tensorflow(ct_ct_mul, secret_key)\n",
    "\n",
    "print(f\"enc:       {dec[:3, 0]}\")\n",
    "print(f\"enc + enc: {add[:3, 0]}\")\n",
    "print(f\"enc * enc: {mul[:3, 0]}\")"
   ]
  },
  {
   "cell_type": "markdown",
   "metadata": {},
   "source": [
    "## Scaling Factors\n",
    "tf-shell keeps track of scaling factors, so you don't have to.\n",
    "\n",
    "In this example, we'll encrypt a ciphertext with scaling factor 3 (defined in\n",
    "the context above) and multiply it by a plaintext. The resulting ciphertext will\n",
    "have a scaling factor of 9."
   ]
  },
  {
   "cell_type": "code",
   "execution_count": 6,
   "metadata": {},
   "outputs": [
    {
     "name": "stdout",
     "output_type": "stream",
     "text": [
      ".33 * .33 = 0.1111111119389534\n",
      "Scaling factor: 9\n"
     ]
    }
   ],
   "source": [
    "a = tf.constant([.33], dtype=tf.float32)\n",
    "enc_a = tf_shell.to_encrypted(a, secret_key, context)\n",
    "\n",
    "enc_mul = enc_a * .33\n",
    "mul = tf_shell.to_tensorflow(enc_mul, secret_key)\n",
    "print(f\".33 * .33 = {mul[0]}\")\n",
    "print(f\"Scaling factor: {enc_mul.scaling_factor}\")"
   ]
  },
  {
   "cell_type": "markdown",
   "metadata": {},
   "source": [
    "Say we perform another multiplication, the scaling factor will be 27."
   ]
  },
  {
   "cell_type": "code",
   "execution_count": 7,
   "metadata": {},
   "outputs": [
    {
     "name": "stdout",
     "output_type": "stream",
     "text": [
      ".33 * .33 * .33 = 0.03703703731298447\n",
      "Scaling factor: 27\n"
     ]
    }
   ],
   "source": [
    "enc_mul_mul = enc_mul * .33\n",
    "mul_mul = tf_shell.to_tensorflow(enc_mul_mul, secret_key)\n",
    "print(f\".33 * .33 * .33 = {mul_mul[0]}\")\n",
    "print(f\"Scaling factor: {enc_mul_mul.scaling_factor}\")"
   ]
  },
  {
   "cell_type": "markdown",
   "metadata": {},
   "source": [
    "The output scaling factor of multiplication is the product of the scaling\n",
    "factors of the operands e.g. sf=3 \\* sf=9 -> sf=27.\n",
    "\n",
    "Additive operations, on the other hand, have their scaling factors matched to\n",
    "the LCM (least common multiple) of each. Here we'll add a ciphertext with\n",
    "scaling factor 9 to a ciphertext with scaling factor 27. The result will have a\n",
    "scaling factor of 27."
   ]
  },
  {
   "cell_type": "code",
   "execution_count": 8,
   "metadata": {},
   "outputs": [
    {
     "name": "stdout",
     "output_type": "stream",
     "text": [
      "(.33 * .33) + (.33 * .33 * .33) = 0.14814814925193787\n",
      "Scaling factor: 27\n"
     ]
    }
   ],
   "source": [
    "enc_mul_mul = enc_mul + enc_mul_mul\n",
    "mul_mul = tf_shell.to_tensorflow(enc_mul_mul, secret_key)\n",
    "print(f\"(.33 * .33) + (.33 * .33 * .33) = {mul_mul[0]}\")\n",
    "print(f\"Scaling factor: {enc_mul_mul.scaling_factor}\")"
   ]
  },
  {
   "cell_type": "markdown",
   "metadata": {},
   "source": [
    "## Modulus Switching\n",
    "`tf-shell` supports modulus switching and will keep track of the moduli just\n",
    "like it does with scaling factors."
   ]
  },
  {
   "cell_type": "code",
   "execution_count": null,
   "metadata": {},
   "outputs": [
    {
     "name": "stdout",
     "output_type": "stream",
     "text": [
      "Sum: 0.6666666865348816\n",
      "Level of arg1: 2 arg2: 1 sum: 1\n"
     ]
    }
   ],
   "source": [
    "a = tf.constant([.33], dtype=tf.float32)\n",
    "enc_a = tf_shell.to_encrypted(a, secret_key, context)\n",
    "\n",
    "mod_reduced_a = tf_shell.mod_reduce_tensor64(enc_a)\n",
    "reduced_sum = enc_a + mod_reduced_a  # enc_a is mod_reduced before the addition.\n",
    "\n",
    "print(f\"Sum: {tf_shell.to_tensorflow(reduced_sum, secret_key)[0]}\")\n",
    "print(f\"Level of arg1: {enc_a.level} arg2: {mod_reduced_a.level} sum: {reduced_sum.level}\")\n"
   ]
  }
 ],
 "metadata": {
  "kernelspec": {
   "display_name": ".venv",
   "language": "python",
   "name": "python3"
  },
  "language_info": {
   "codemirror_mode": {
    "name": "ipython",
    "version": 3
   },
   "file_extension": ".py",
   "mimetype": "text/x-python",
   "name": "python",
   "nbconvert_exporter": "python",
   "pygments_lexer": "ipython3",
   "version": "3.10.12"
  }
 },
 "nbformat": 4,
 "nbformat_minor": 2
}
