{
 "cells": [
  {
   "cell_type": "markdown",
   "metadata": {},
   "source": [
    "# Benchmarking tf-shell"
   ]
  },
  {
   "cell_type": "code",
   "execution_count": 1,
   "metadata": {},
   "outputs": [
    {
     "name": "stderr",
     "output_type": "stream",
     "text": [
      "2024-11-10 01:15:42.366708: I tensorflow/core/util/port.cc:153] oneDNN custom operations are on. You may see slightly different numerical results due to floating-point round-off errors from different computation orders. To turn them off, set the environment variable `TF_ENABLE_ONEDNN_OPTS=0`.\n",
      "2024-11-10 01:15:42.367179: I external/local_xla/xla/tsl/cuda/cudart_stub.cc:32] Could not find cuda drivers on your machine, GPU will not be used.\n",
      "2024-11-10 01:15:42.369814: I external/local_xla/xla/tsl/cuda/cudart_stub.cc:32] Could not find cuda drivers on your machine, GPU will not be used.\n",
      "2024-11-10 01:15:42.376276: E external/local_xla/xla/stream_executor/cuda/cuda_fft.cc:477] Unable to register cuFFT factory: Attempting to register factory for plugin cuFFT when one has already been registered\n",
      "WARNING: All log messages before absl::InitializeLog() is called are written to STDERR\n",
      "E0000 00:00:1731201342.387674  117259 cuda_dnn.cc:8310] Unable to register cuDNN factory: Attempting to register factory for plugin cuDNN when one has already been registered\n",
      "E0000 00:00:1731201342.391135  117259 cuda_blas.cc:1418] Unable to register cuBLAS factory: Attempting to register factory for plugin cuBLAS when one has already been registered\n",
      "2024-11-10 01:15:42.402569: I tensorflow/core/platform/cpu_feature_guard.cc:210] This TensorFlow binary is optimized to use available CPU instructions in performance-critical operations.\n",
      "To enable the following instructions: AVX2 AVX512F AVX512_VNNI FMA, in other operations, rebuild TensorFlow with the appropriate compiler flags.\n",
      "2024-11-10 01:15:43.514528: E external/local_xla/xla/stream_executor/cuda/cuda_driver.cc:152] failed call to cuInit: INTERNAL: CUDA error: Failed call to cuInit: UNKNOWN ERROR (303)\n"
     ]
    },
    {
     "name": "stdout",
     "output_type": "stream",
     "text": [
      "INFO: Generating key\n",
      "INFO: Generating rotation key\n",
      "INFO: Generating rotation key\n"
     ]
    }
   ],
   "source": [
    "import tf_shell\n",
    "import tensorflow as tf\n",
    "import timeit\n",
    "\n",
    "context = tf_shell.create_context64(\n",
    "    log_n=10,\n",
    "    main_moduli=[8556589057, 8388812801],\n",
    "    plaintext_modulus=40961,\n",
    "    scaling_factor=3,\n",
    "    seed=\"test_seed\",\n",
    ")\n",
    "\n",
    "secret_key = tf_shell.create_key64(context)\n",
    "rotation_key = tf_shell.create_rotation_key64(context, secret_key)\n",
    "\n",
    "a = tf.random.uniform([context.num_slots, 55555], dtype=tf.float32, maxval=10)\n",
    "b = tf.random.uniform([55555, 333], dtype=tf.float32, maxval=10)\n",
    "c = tf.random.uniform([2, context.num_slots], dtype=tf.float32, maxval=10)\n",
    "d = tf.random.uniform([context.num_slots, 4444], dtype=tf.float32, maxval=10)\n",
    "\n",
    "enc_a = tf_shell.to_encrypted(a, secret_key, context)"
   ]
  },
  {
   "cell_type": "code",
   "execution_count": 2,
   "metadata": {},
   "outputs": [
    {
     "name": "stdout",
     "output_type": "stream",
     "text": [
      "0.5067476989970601\n"
     ]
    }
   ],
   "source": [
    "def to_pt():\n",
    "    return tf_shell.to_shell_plaintext(a, context)\n",
    "\n",
    "time = min(timeit.Timer(to_pt).repeat(repeat=3, number=1))\n",
    "print(time)"
   ]
  },
  {
   "cell_type": "code",
   "execution_count": 3,
   "metadata": {},
   "outputs": [
    {
     "name": "stdout",
     "output_type": "stream",
     "text": [
      "0.1824721849989146\n"
     ]
    }
   ],
   "source": [
    "def enc():\n",
    "    return tf_shell.to_encrypted(d, secret_key, context)\n",
    "\n",
    "time = min(timeit.Timer(enc).repeat(repeat=3, number=1))\n",
    "print(time)"
   ]
  },
  {
   "cell_type": "code",
   "execution_count": 4,
   "metadata": {},
   "outputs": [
    {
     "name": "stdout",
     "output_type": "stream",
     "text": [
      "0.5525883640002576\n"
     ]
    }
   ],
   "source": [
    "def dec():\n",
    "    return tf_shell.to_tensorflow(enc_a, secret_key)\n",
    "\n",
    "time = min(timeit.Timer(dec).repeat(repeat=3, number=1))\n",
    "print(time)"
   ]
  },
  {
   "cell_type": "code",
   "execution_count": 5,
   "metadata": {},
   "outputs": [
    {
     "name": "stdout",
     "output_type": "stream",
     "text": [
      "0.18785935000050813\n"
     ]
    }
   ],
   "source": [
    "def ct_ct_add():\n",
    "    return enc_a + enc_a\n",
    "\n",
    "time = min(timeit.Timer(ct_ct_add).repeat(repeat=3, number=1))\n",
    "print(time)"
   ]
  },
  {
   "cell_type": "code",
   "execution_count": 6,
   "metadata": {},
   "outputs": [
    {
     "name": "stdout",
     "output_type": "stream",
     "text": [
      "0.19354859399754787\n"
     ]
    }
   ],
   "source": [
    "def ct_ct_sub():\n",
    "    return enc_a - enc_a\n",
    "\n",
    "time = min(timeit.Timer(ct_ct_sub).repeat(repeat=3, number=1))\n",
    "print(time)"
   ]
  },
  {
   "cell_type": "code",
   "execution_count": 7,
   "metadata": {},
   "outputs": [
    {
     "name": "stdout",
     "output_type": "stream",
     "text": [
      "0.17636438800036558\n"
     ]
    }
   ],
   "source": [
    "def ct_ct_mul():\n",
    "    return enc_a * 4\n",
    "\n",
    "time = min(timeit.Timer(ct_ct_mul).repeat(repeat=3, number=1))\n",
    "print(time)"
   ]
  },
  {
   "cell_type": "code",
   "execution_count": 8,
   "metadata": {},
   "outputs": [
    {
     "name": "stdout",
     "output_type": "stream",
     "text": [
      "0.7591958359989803\n"
     ]
    }
   ],
   "source": [
    "def ct_pt_add():\n",
    "    return enc_a + a\n",
    "\n",
    "time = min(timeit.Timer(ct_pt_add).repeat(repeat=3, number=1))\n",
    "print(time)"
   ]
  },
  {
   "cell_type": "code",
   "execution_count": 9,
   "metadata": {},
   "outputs": [
    {
     "name": "stdout",
     "output_type": "stream",
     "text": [
      "0.7197426070015354\n"
     ]
    }
   ],
   "source": [
    "def ct_pt_mul():\n",
    "    return enc_a * a\n",
    "\n",
    "time = min(timeit.Timer(ct_pt_mul).repeat(repeat=3, number=1))\n",
    "print(time)"
   ]
  },
  {
   "cell_type": "code",
   "execution_count": 10,
   "metadata": {},
   "outputs": [
    {
     "name": "stdout",
     "output_type": "stream",
     "text": [
      "27.007230432998767\n"
     ]
    }
   ],
   "source": [
    "def ct_pt_matmul():\n",
    "    return tf_shell.matmul(enc_a, b)\n",
    "\n",
    "time = min(timeit.Timer(ct_pt_matmul).repeat(repeat=3, number=1))\n",
    "print(time)"
   ]
  },
  {
   "cell_type": "code",
   "execution_count": 11,
   "metadata": {},
   "outputs": [
    {
     "name": "stdout",
     "output_type": "stream",
     "text": [
      "370.09557524000047\n"
     ]
    }
   ],
   "source": [
    "def pt_ct_matmul():\n",
    "    return tf_shell.matmul(c, enc_a, rotation_key)\n",
    "\n",
    "time = min(timeit.Timer(pt_ct_matmul).repeat(repeat=3, number=1))\n",
    "print(time)"
   ]
  },
  {
   "cell_type": "code",
   "execution_count": 12,
   "metadata": {},
   "outputs": [
    {
     "name": "stdout",
     "output_type": "stream",
     "text": [
      "5.250123850997625\n"
     ]
    }
   ],
   "source": [
    "def ct_roll():\n",
    "    return tf_shell.roll(enc_a, 2, rotation_key)\n",
    "\n",
    "time = min(timeit.Timer(ct_roll).repeat(repeat=3, number=1))\n",
    "print(time)"
   ]
  }
 ],
 "metadata": {
  "kernelspec": {
   "display_name": ".venv",
   "language": "python",
   "name": "python3"
  },
  "language_info": {
   "codemirror_mode": {
    "name": "ipython",
    "version": 3
   },
   "file_extension": ".py",
   "mimetype": "text/x-python",
   "name": "python",
   "nbconvert_exporter": "python",
   "pygments_lexer": "ipython3",
   "version": "3.10.12"
  }
 },
 "nbformat": 4,
 "nbformat_minor": 2
}
