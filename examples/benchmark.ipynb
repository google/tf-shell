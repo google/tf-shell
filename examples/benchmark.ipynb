{
 "cells": [
  {
   "cell_type": "markdown",
   "metadata": {},
   "source": [
    "# Introduction to tf-shell\n",
    "\n",
    "To get started, `pip install tf-shell`. tf-shell has a few modules, the one used\n",
    "in this notebook is `tf_shell`."
   ]
  },
  {
   "cell_type": "code",
   "execution_count": 1,
   "metadata": {},
   "outputs": [
    {
     "name": "stderr",
     "output_type": "stream",
     "text": [
      "2024-06-10 21:30:04.256734: I tensorflow/core/util/port.cc:113] oneDNN custom operations are on. You may see slightly different numerical results due to floating-point round-off errors from different computation orders. To turn them off, set the environment variable `TF_ENABLE_ONEDNN_OPTS=0`.\n",
      "2024-06-10 21:30:04.257664: I external/local_tsl/tsl/cuda/cudart_stub.cc:32] Could not find cuda drivers on your machine, GPU will not be used.\n",
      "2024-06-10 21:30:04.291533: I external/local_tsl/tsl/cuda/cudart_stub.cc:32] Could not find cuda drivers on your machine, GPU will not be used.\n",
      "2024-06-10 21:30:04.428601: I tensorflow/core/platform/cpu_feature_guard.cc:210] This TensorFlow binary is optimized to use available CPU instructions in performance-critical operations.\n",
      "To enable the following instructions: AVX2 AVX512F AVX512_VNNI FMA, in other operations, rebuild TensorFlow with the appropriate compiler flags.\n",
      "2024-06-10 21:30:05.195988: W tensorflow/compiler/tf2tensorrt/utils/py_utils.cc:38] TF-TRT Warning: Could not find TensorRT\n"
     ]
    }
   ],
   "source": [
    "import tf_shell\n",
    "import tensorflow as tf\n",
    "import timeit\n",
    "\n",
    "context = tf_shell.create_context64(\n",
    "    log_n=10,\n",
    "    main_moduli=[8556589057, 8388812801],\n",
    "    plaintext_modulus=40961,\n",
    "    scaling_factor=3,\n",
    "    mul_depth_supported=3,\n",
    "    seed=\"test_seed\",\n",
    ")\n",
    "\n",
    "secret_key = tf_shell.create_key64(context)\n",
    "rotation_key = tf_shell.create_rotation_key64(context, secret_key)\n",
    "\n",
    "a = tf.random.uniform([context.num_slots, 55555], dtype=tf.float32, maxval=10)\n",
    "b = tf.random.uniform([55555, 333], dtype=tf.float32, maxval=10)\n",
    "c = tf.random.uniform([2, context.num_slots], dtype=tf.float32, maxval=10)\n",
    "d = tf.random.uniform([context.num_slots, 4444], dtype=tf.float32, maxval=10)\n",
    "\n",
    "enc_a = tf_shell.to_encrypted(a, secret_key, context)"
   ]
  },
  {
   "cell_type": "code",
   "execution_count": 2,
   "metadata": {},
   "outputs": [
    {
     "name": "stdout",
     "output_type": "stream",
     "text": [
      "0.4906675929996709\n"
     ]
    }
   ],
   "source": [
    "def to_pt():\n",
    "    return tf_shell.to_shell_plaintext(a, context)\n",
    "\n",
    "time = min(timeit.Timer(to_pt).repeat(repeat=3, number=1))\n",
    "print(time)"
   ]
  },
  {
   "cell_type": "code",
   "execution_count": 3,
   "metadata": {},
   "outputs": [
    {
     "name": "stdout",
     "output_type": "stream",
     "text": [
      "5.263423050000711\n"
     ]
    }
   ],
   "source": [
    "def enc():\n",
    "    return tf_shell.to_encrypted(d, secret_key, context)\n",
    "\n",
    "time = min(timeit.Timer(enc).repeat(repeat=3, number=1))\n",
    "print(time)"
   ]
  },
  {
   "cell_type": "code",
   "execution_count": 4,
   "metadata": {},
   "outputs": [
    {
     "name": "stdout",
     "output_type": "stream",
     "text": [
      "0.5277276859997073\n"
     ]
    }
   ],
   "source": [
    "def dec():\n",
    "    return tf_shell.to_tensorflow(enc_a, secret_key)\n",
    "\n",
    "time = min(timeit.Timer(dec).repeat(repeat=3, number=1))\n",
    "print(time)"
   ]
  },
  {
   "cell_type": "code",
   "execution_count": 5,
   "metadata": {},
   "outputs": [
    {
     "name": "stdout",
     "output_type": "stream",
     "text": [
      "0.4192462440005329\n"
     ]
    }
   ],
   "source": [
    "def ct_ct_add():\n",
    "    return enc_a + enc_a\n",
    "\n",
    "time = min(timeit.Timer(ct_ct_add).repeat(repeat=3, number=1))\n",
    "print(time)"
   ]
  },
  {
   "cell_type": "code",
   "execution_count": 6,
   "metadata": {},
   "outputs": [
    {
     "name": "stdout",
     "output_type": "stream",
     "text": [
      "0.4219015720009338\n"
     ]
    }
   ],
   "source": [
    "def ct_ct_sub():\n",
    "    return enc_a - enc_a\n",
    "\n",
    "time = min(timeit.Timer(ct_ct_sub).repeat(repeat=3, number=1))\n",
    "print(time)"
   ]
  },
  {
   "cell_type": "code",
   "execution_count": 7,
   "metadata": {},
   "outputs": [
    {
     "name": "stdout",
     "output_type": "stream",
     "text": [
      "0.8668678089998139\n"
     ]
    }
   ],
   "source": [
    "def ct_ct_mul():\n",
    "    return enc_a * enc_a\n",
    "\n",
    "time = min(timeit.Timer(ct_ct_mul).repeat(repeat=3, number=1))\n",
    "print(time)"
   ]
  },
  {
   "cell_type": "code",
   "execution_count": 8,
   "metadata": {},
   "outputs": [
    {
     "name": "stdout",
     "output_type": "stream",
     "text": [
      "0.7579904609992809\n"
     ]
    }
   ],
   "source": [
    "def ct_pt_add():\n",
    "    return enc_a + a\n",
    "\n",
    "time = min(timeit.Timer(ct_pt_add).repeat(repeat=3, number=1))\n",
    "print(time)"
   ]
  },
  {
   "cell_type": "code",
   "execution_count": 9,
   "metadata": {},
   "outputs": [
    {
     "name": "stdout",
     "output_type": "stream",
     "text": [
      "0.6268679120003071\n"
     ]
    }
   ],
   "source": [
    "def ct_pt_mul():\n",
    "    return enc_a * a\n",
    "\n",
    "time = min(timeit.Timer(ct_pt_mul).repeat(repeat=3, number=1))\n",
    "print(time)"
   ]
  },
  {
   "cell_type": "code",
   "execution_count": 10,
   "metadata": {},
   "outputs": [
    {
     "name": "stdout",
     "output_type": "stream",
     "text": [
      "25.57404864599812\n"
     ]
    }
   ],
   "source": [
    "def ct_pt_matmul():\n",
    "    return tf_shell.matmul(enc_a, b)\n",
    "\n",
    "time = min(timeit.Timer(ct_pt_matmul).repeat(repeat=3, number=1))\n",
    "print(time)"
   ]
  },
  {
   "cell_type": "code",
   "execution_count": 11,
   "metadata": {},
   "outputs": [
    {
     "name": "stdout",
     "output_type": "stream",
     "text": [
      "361.1888753159983\n"
     ]
    }
   ],
   "source": [
    "def pt_ct_matmul():\n",
    "    return tf_shell.matmul(c, enc_a, rotation_key)\n",
    "\n",
    "time = min(timeit.Timer(pt_ct_matmul).repeat(repeat=3, number=1))\n",
    "print(time)"
   ]
  },
  {
   "cell_type": "code",
   "execution_count": 12,
   "metadata": {},
   "outputs": [
    {
     "name": "stdout",
     "output_type": "stream",
     "text": [
      "4.650902364999638\n"
     ]
    }
   ],
   "source": [
    "def ct_roll():\n",
    "    return tf_shell.roll(enc_a, 2, rotation_key)\n",
    "\n",
    "time = min(timeit.Timer(ct_roll).repeat(repeat=3, number=1))\n",
    "print(time)"
   ]
  }
 ],
 "metadata": {
  "kernelspec": {
   "display_name": ".venv",
   "language": "python",
   "name": "python3"
  },
  "language_info": {
   "codemirror_mode": {
    "name": "ipython",
    "version": 3
   },
   "file_extension": ".py",
   "mimetype": "text/x-python",
   "name": "python",
   "nbconvert_exporter": "python",
   "pygments_lexer": "ipython3",
   "version": "3.10.12"
  }
 },
 "nbformat": 4,
 "nbformat_minor": 2
}
