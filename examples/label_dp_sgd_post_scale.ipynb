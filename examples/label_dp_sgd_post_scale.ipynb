{
 "cells": [
  {
   "cell_type": "markdown",
   "metadata": {},
   "source": [
    "# Label DP SGD (Post Scale)\n",
    "\n",
    "This notebook walks through how to train a model to recognize hand written\n",
    "digits using label differentially private gradient decent and the MNIST dataset.\n",
    "In this setting, one party has the images and the other party has the labels.\n",
    "They would like to collaborate to train a model without revealing their data.\n",
    "\n",
    "This colab uses the post-scale approach to training.\n",
    "\n",
    "Before starting, install the tf-shell package.\n",
    "\n",
    "```bash\n",
    "pip install tf-shell\n",
    "```"
   ]
  },
  {
   "cell_type": "markdown",
   "metadata": {},
   "source": [
    "First, import some modules and set up tf-shell. The parameters are for the SHELL\n",
    "encryption library, which tf-shell uses, and mostly depend on the multiplicative\n",
    "depth of the computation to be performed. This example performs back\n",
    "propagation, thus the multiplicative depth is determined by the number of\n",
    "layers. For more information, see [SHELL](https://github.com/google/shell)."
   ]
  },
  {
   "cell_type": "code",
   "execution_count": 1,
   "metadata": {},
   "outputs": [
    {
     "name": "stderr",
     "output_type": "stream",
     "text": [
      "2024-04-26 15:20:18.850048: I tensorflow/core/util/port.cc:113] oneDNN custom operations are on. You may see slightly different numerical results due to floating-point round-off errors from different computation orders. To turn them off, set the environment variable `TF_ENABLE_ONEDNN_OPTS=0`.\n",
      "2024-04-26 15:20:18.873633: I tensorflow/core/platform/cpu_feature_guard.cc:210] This TensorFlow binary is optimized to use available CPU instructions in performance-critical operations.\n",
      "To enable the following instructions: AVX2 AVX512F AVX512_VNNI FMA, in other operations, rebuild TensorFlow with the appropriate compiler flags.\n"
     ]
    }
   ],
   "source": [
    "import time\n",
    "from datetime import datetime\n",
    "import tensorflow as tf\n",
    "import keras\n",
    "import numpy as np\n",
    "import tf_shell\n",
    "import tf_shell_ml"
   ]
  },
  {
   "cell_type": "code",
   "execution_count": 2,
   "metadata": {},
   "outputs": [],
   "source": [
    "# Num plaintext bits: 19, noise bits: 40\n",
    "# Max representable value: 61895\n",
    "context = tf_shell.create_context64(\n",
    "    log_n=11,\n",
    "    main_moduli=[576460752303439873],\n",
    "    plaintext_modulus=557057,\n",
    "    scaling_factor=3,\n",
    "    mul_depth_supported=1,\n",
    ")\n",
    "# 121 bits of security according to lattice estimator primal_bdd.\n",
    "\n",
    "# Create the secret key for encryption and a rotation key (rotation key is\n",
    "# an auxilary key required for operations like roll or matmul).\n",
    "secret_key = tf_shell.create_key64(context)\n",
    "public_rotation_key = tf_shell.create_rotation_key64(context, secret_key)\n",
    "\n",
    "# The batch size is determined by the ciphertext parameters, specifically the\n",
    "# schemes polynomial's ring degree because tf-shell uses batch axis packing.\n",
    "# Furthermore, two micro-batches to run in parallel.\n",
    "batch_size = context.num_slots"
   ]
  },
  {
   "cell_type": "markdown",
   "metadata": {},
   "source": [
    "Setup MNIST dataset."
   ]
  },
  {
   "cell_type": "code",
   "execution_count": 3,
   "metadata": {},
   "outputs": [],
   "source": [
    "(x_train, y_train), (x_test, y_test) = keras.datasets.mnist.load_data()\n",
    "x_train, x_test = np.reshape(x_train, (-1, 784)), np.reshape(x_test, (-1, 784))\n",
    "x_train, x_test = x_train / np.float32(255.0), x_test / np.float32(255.0)\n",
    "y_train, y_test = tf.one_hot(y_train, 10), tf.one_hot(y_test, 10)\n",
    "\n",
    "train_dataset = tf.data.Dataset.from_tensor_slices((x_train, y_train))\n",
    "train_dataset = train_dataset.shuffle(buffer_size=2048).batch(batch_size)\n",
    "\n",
    "val_dataset = tf.data.Dataset.from_tensor_slices((x_test, y_test))\n",
    "val_dataset = val_dataset.batch(batch_size)"
   ]
  },
  {
   "cell_type": "markdown",
   "metadata": {},
   "source": [
    "Create a simple model with a hidden layer of size 64 and an output layer\n",
    "of size 10 (for each of the 10 digits)."
   ]
  },
  {
   "cell_type": "code",
   "execution_count": 4,
   "metadata": {},
   "outputs": [],
   "source": [
    "mnist_layers = [\n",
    "    tf.keras.layers.Dense(64, activation=\"relu\"),\n",
    "    tf.keras.layers.Dense(10, activation=\"sigmoid\"),\n",
    "]\n",
    "\n",
    "model = keras.Sequential(mnist_layers)\n",
    "model.compile(\n",
    "    optimizer=\"adam\",\n",
    "    metrics=[\"accuracy\"],\n",
    ")"
   ]
  },
  {
   "cell_type": "markdown",
   "metadata": {},
   "source": [
    "Next, define the `train_step` function which will be called for each batch on an\n",
    "encrypted batch of labels, y. The function first does a forward on the plaintext\n",
    "image x to compute a predicted label, then does backpropagation using the\n",
    "encrypted label y."
   ]
  },
  {
   "cell_type": "code",
   "execution_count": 5,
   "metadata": {},
   "outputs": [],
   "source": [
    "def train_step(x, y):\n",
    "    \"\"\"One step of training with using the \"post scale\" approach.\n",
    "\n",
    "    High level idea:\n",
    "    For each output class, backprop to compute the gradient but exclude the loss\n",
    "    function. Now we have a _vector_ of model updates for one sample. The real\n",
    "    gradient update for the sample is a linear combination of the vector of\n",
    "    weight updates whose scale is determined by dJ_dyhat (the derivative of the\n",
    "    loss with respect to the predicted output yhat). Effectively, we have\n",
    "    factored out dJ_dyhat from the gradient. Separating out dJ_dyhat allows us\n",
    "    to scale the weight updates easily when the label is secret and the gradient\n",
    "    must be computed under encryption / multiparty computation because the\n",
    "    multiplicative depth of the computation is 1, however the number of\n",
    "    multiplications required now depends on the model size AND the number of\n",
    "    output classes. In contrast, standard backpropagation only requires\n",
    "    multiplications proportional to the model size, howver the multiplicative\n",
    "    depth is proportional to the model depth.\n",
    "    \"\"\"\n",
    "\n",
    "    # Unset the activation function for the last layer so it is not used in\n",
    "    # computing the gradient. The effect of the last layer activation function\n",
    "    # is factored out of the gradient computation and accounted for below.\n",
    "    model.layers[-1].activation = tf.keras.activations.linear\n",
    "\n",
    "    with tf.GradientTape() as tape:\n",
    "        y_pred = model(x, training=True)  # forward pass\n",
    "    grads = tape.jacobian(y_pred, model.trainable_weights)\n",
    "    # ^  layers list x (batch size x num output classes x weights) matrix\n",
    "    # dy_pred_j/dW_sample_class\n",
    "\n",
    "\n",
    "    # Reset the activation function for the last layer and compute the real\n",
    "    # prediction.\n",
    "    model.layers[-1].activation = tf.keras.activations.sigmoid\n",
    "    y_pred = model(x, training=False)\n",
    "\n",
    "    # Compute y_pred - y (where y is encrypted).\n",
    "    scalars = y_pred - y  # dJ/dy_pred\n",
    "    # ^  batch_size x num output classes.\n",
    "\n",
    "    # Scale each gradient. Since 'scalars' may be a vector of ciphertexts, this\n",
    "    # requires multiplying plaintext gradient for the specific layer (2d) by the\n",
    "    # ciphertext (scalar). To do so efficiently under encryption requires\n",
    "    # flattening and packing the weights, as shown below.\n",
    "    ps_grads = []\n",
    "    for layer_grad_full in grads:\n",
    "        # Remember the original shape of the gradient in order to unpack them\n",
    "        # after the multiplication so they can be applied to the model.\n",
    "        batch_sz = layer_grad_full.shape[0]\n",
    "        num_output_classes = layer_grad_full.shape[1]\n",
    "        grad_shape = layer_grad_full.shape[2:]\n",
    "\n",
    "        packable_grad = tf.reshape(layer_grad_full, [batch_sz, num_output_classes, -1])\n",
    "        # ^  batch_size x num output classes x flattened weights\n",
    "\n",
    "        # Expand the last dim so that the subsequent multiplication is\n",
    "        # broadcasted.\n",
    "        expanded_scalars = tf_shell.expand_dims(scalars, axis=-1)\n",
    "        # ^ batch_size x num output classes x 1\n",
    "\n",
    "        # Scale the gradient precursors.\n",
    "        scaled_grad = packable_grad * expanded_scalars\n",
    "        # ^ dy_pred/dW * dJ/dy_pred = dJ/dW\n",
    "\n",
    "        # Sum over the output classes.\n",
    "        scaled_grad = tf_shell.reduce_sum(scaled_grad, axis=1)\n",
    "        # ^  batch_size x 1 x flattened weights\n",
    "\n",
    "        # In the real world, this approach would also likely require clipping\n",
    "        # the gradient, aggregation, and adding DP noise.\n",
    "\n",
    "        # Reshape to remove the '1' dimension in the middle.\n",
    "        scaled_grad = tf_shell.reshape(scaled_grad, [batch_sz] + grad_shape)\n",
    "        # ^  batch_size x weights\n",
    "\n",
    "        # Sum over the batch.\n",
    "        scaled_grad = tf_shell.reduce_sum(scaled_grad, axis=0, rotation_key=public_rotation_key)\n",
    "        # ^  batch_size x flattened weights\n",
    "        # Every [i, ...] is the same, the sum over the batching dim axis=0.\n",
    "\n",
    "        ps_grads.append(scaled_grad)\n",
    "\n",
    "    return ps_grads\n",
    "\n",
    "\n",
    "def train_step_wrapper(x_batch, y_batch):\n",
    "    # Encrypt\n",
    "    enc_y_batch = tf_shell.to_encrypted(y_batch, secret_key, context)\n",
    "\n",
    "    # Train\n",
    "    ps_grads = train_step(x_batch, enc_y_batch)\n",
    "\n",
    "    # Decrypt\n",
    "    grads = []\n",
    "    for enc_g in ps_grads:\n",
    "        grads.append(tf_shell.to_tensorflow(enc_g, secret_key)[0])\n",
    "        # ^ take the first element because the grad sum is repeated over the batching dim.\n",
    "\n",
    "    model.optimizer.apply_gradients(\n",
    "        zip(\n",
    "            grads,\n",
    "            model.trainable_weights\n",
    "        )\n",
    "    )"
   ]
  },
  {
   "cell_type": "markdown",
   "metadata": {},
   "source": [
    "Here is the training loop. Each inner iteration runs a batch of size 2^(11),\n",
    "then meaures the model accuracy.\n",
    "\n",
    "Tensorboard can be used to visualize the training progress. See cell output for\n",
    "command to start tensorboard."
   ]
  },
  {
   "cell_type": "code",
   "execution_count": 6,
   "metadata": {},
   "outputs": [
    {
     "name": "stdout",
     "output_type": "stream",
     "text": [
      "To start tensorboard, run: tensorboard --logdir /tmp/tflogs\n",
      "\n",
      "Start of epoch 0\n",
      "Epoch: 0, Batch: 0 / 30, Time Stamp: 0.06940650939941406\n",
      "\taccuracy: 0.06139380484819412\n"
     ]
    },
    {
     "name": "stderr",
     "output_type": "stream",
     "text": [
      "2024-04-26 15:21:43.872918: W tensorflow/core/framework/local_rendezvous.cc:404] Local rendezvous is aborting with status: OUT_OF_RANGE: End of sequence\n"
     ]
    },
    {
     "name": "stdout",
     "output_type": "stream",
     "text": [
      "Epoch: 0, Batch: 1 / 30, Time Stamp: 82.75300288200378\n",
      "\taccuracy: 0.08683628588914871\n"
     ]
    },
    {
     "name": "stderr",
     "output_type": "stream",
     "text": [
      "2024-04-26 15:22:52.390485: W tensorflow/core/framework/local_rendezvous.cc:404] Local rendezvous is aborting with status: OUT_OF_RANGE: End of sequence\n"
     ]
    },
    {
     "name": "stdout",
     "output_type": "stream",
     "text": [
      "Epoch: 0, Batch: 2 / 30, Time Stamp: 151.25495791435242\n",
      "\taccuracy: 0.12721239030361176\n"
     ]
    },
    {
     "name": "stderr",
     "output_type": "stream",
     "text": [
      "2024-04-26 15:24:00.741010: W tensorflow/core/framework/local_rendezvous.cc:404] Local rendezvous is aborting with status: OUT_OF_RANGE: End of sequence\n"
     ]
    },
    {
     "name": "stdout",
     "output_type": "stream",
     "text": [
      "Epoch: 0, Batch: 3 / 30, Time Stamp: 219.60518217086792\n",
      "\taccuracy: 0.1548672616481781\n"
     ]
    },
    {
     "name": "stderr",
     "output_type": "stream",
     "text": [
      "2024-04-26 15:25:14.001617: W tensorflow/core/framework/local_rendezvous.cc:404] Local rendezvous is aborting with status: OUT_OF_RANGE: End of sequence\n"
     ]
    },
    {
     "name": "stdout",
     "output_type": "stream",
     "text": [
      "Epoch: 0, Batch: 4 / 30, Time Stamp: 292.86561703681946\n",
      "WARNING:tensorflow:5 out of the last 5 calls to <function pfor.<locals>.f at 0x7fbeeb495a20> triggered tf.function retracing. Tracing is expensive and the excessive number of tracings could be due to (1) creating @tf.function repeatedly in a loop, (2) passing tensors with different shapes, (3) passing Python objects instead of tensors. For (1), please define your @tf.function outside of the loop. For (2), @tf.function has reduce_retracing=True option that can avoid unnecessary retracing. For (3), please refer to https://www.tensorflow.org/guide/function#controlling_retracing and https://www.tensorflow.org/api_docs/python/tf/function for  more details.\n",
      "\taccuracy: 0.17643804848194122\n"
     ]
    },
    {
     "name": "stderr",
     "output_type": "stream",
     "text": [
      "2024-04-26 15:26:22.228981: W tensorflow/core/framework/local_rendezvous.cc:404] Local rendezvous is aborting with status: OUT_OF_RANGE: End of sequence\n"
     ]
    },
    {
     "name": "stdout",
     "output_type": "stream",
     "text": [
      "Epoch: 0, Batch: 5 / 30, Time Stamp: 361.09285974502563\n",
      "WARNING:tensorflow:6 out of the last 6 calls to <function pfor.<locals>.f at 0x7fbeeb495a20> triggered tf.function retracing. Tracing is expensive and the excessive number of tracings could be due to (1) creating @tf.function repeatedly in a loop, (2) passing tensors with different shapes, (3) passing Python objects instead of tensors. For (1), please define your @tf.function outside of the loop. For (2), @tf.function has reduce_retracing=True option that can avoid unnecessary retracing. For (3), please refer to https://www.tensorflow.org/guide/function#controlling_retracing and https://www.tensorflow.org/api_docs/python/tf/function for  more details.\n",
      "\taccuracy: 0.19081857800483704\n"
     ]
    },
    {
     "name": "stderr",
     "output_type": "stream",
     "text": [
      "2024-04-26 15:27:31.338013: W tensorflow/core/framework/local_rendezvous.cc:404] Local rendezvous is aborting with status: OUT_OF_RANGE: End of sequence\n"
     ]
    },
    {
     "name": "stdout",
     "output_type": "stream",
     "text": [
      "Epoch: 0, Batch: 6 / 30, Time Stamp: 430.2023301124573\n",
      "\taccuracy: 0.2101769894361496\n"
     ]
    },
    {
     "name": "stderr",
     "output_type": "stream",
     "text": [
      "2024-04-26 15:28:42.044969: W tensorflow/core/framework/local_rendezvous.cc:404] Local rendezvous is aborting with status: OUT_OF_RANGE: End of sequence\n"
     ]
    },
    {
     "name": "stdout",
     "output_type": "stream",
     "text": [
      "Epoch: 0, Batch: 7 / 30, Time Stamp: 500.9089617729187\n",
      "\taccuracy: 0.21902655065059662\n"
     ]
    },
    {
     "name": "stderr",
     "output_type": "stream",
     "text": [
      "2024-04-26 15:29:54.669820: W tensorflow/core/framework/local_rendezvous.cc:404] Local rendezvous is aborting with status: OUT_OF_RANGE: End of sequence\n"
     ]
    },
    {
     "name": "stdout",
     "output_type": "stream",
     "text": [
      "Epoch: 0, Batch: 8 / 30, Time Stamp: 573.5338339805603\n",
      "\taccuracy: 0.22400441765785217\n"
     ]
    },
    {
     "name": "stderr",
     "output_type": "stream",
     "text": [
      "2024-04-26 15:31:03.402643: W tensorflow/core/framework/local_rendezvous.cc:404] Local rendezvous is aborting with status: OUT_OF_RANGE: End of sequence\n"
     ]
    },
    {
     "name": "stdout",
     "output_type": "stream",
     "text": [
      "Epoch: 0, Batch: 9 / 30, Time Stamp: 642.2663412094116\n",
      "\taccuracy: 0.2317477911710739\n"
     ]
    },
    {
     "name": "stderr",
     "output_type": "stream",
     "text": [
      "2024-04-26 15:32:11.294701: W tensorflow/core/framework/local_rendezvous.cc:404] Local rendezvous is aborting with status: OUT_OF_RANGE: End of sequence\n"
     ]
    },
    {
     "name": "stdout",
     "output_type": "stream",
     "text": [
      "Epoch: 0, Batch: 10 / 30, Time Stamp: 710.1584296226501\n",
      "\taccuracy: 0.24668142199516296\n"
     ]
    },
    {
     "name": "stderr",
     "output_type": "stream",
     "text": [
      "2024-04-26 15:33:19.957185: W tensorflow/core/framework/local_rendezvous.cc:404] Local rendezvous is aborting with status: OUT_OF_RANGE: End of sequence\n"
     ]
    },
    {
     "name": "stdout",
     "output_type": "stream",
     "text": [
      "Epoch: 0, Batch: 11 / 30, Time Stamp: 778.8208358287811\n",
      "\taccuracy: 0.26493361592292786\n"
     ]
    },
    {
     "name": "stderr",
     "output_type": "stream",
     "text": [
      "2024-04-26 15:34:32.724597: W tensorflow/core/framework/local_rendezvous.cc:404] Local rendezvous is aborting with status: OUT_OF_RANGE: End of sequence\n"
     ]
    },
    {
     "name": "stdout",
     "output_type": "stream",
     "text": [
      "Epoch: 0, Batch: 12 / 30, Time Stamp: 851.5886828899384\n",
      "\taccuracy: 0.2887168228626251\n"
     ]
    },
    {
     "name": "stderr",
     "output_type": "stream",
     "text": [
      "2024-04-26 15:35:40.807055: W tensorflow/core/framework/local_rendezvous.cc:404] Local rendezvous is aborting with status: OUT_OF_RANGE: End of sequence\n"
     ]
    },
    {
     "name": "stdout",
     "output_type": "stream",
     "text": [
      "Epoch: 0, Batch: 13 / 30, Time Stamp: 919.6708896160126\n",
      "\taccuracy: 0.3163716793060303\n"
     ]
    },
    {
     "name": "stderr",
     "output_type": "stream",
     "text": [
      "2024-04-26 15:36:49.307414: W tensorflow/core/framework/local_rendezvous.cc:404] Local rendezvous is aborting with status: OUT_OF_RANGE: End of sequence\n"
     ]
    },
    {
     "name": "stdout",
     "output_type": "stream",
     "text": [
      "Epoch: 0, Batch: 14 / 30, Time Stamp: 988.1711373329163\n",
      "\taccuracy: 0.35011062026023865\n"
     ]
    },
    {
     "name": "stderr",
     "output_type": "stream",
     "text": [
      "2024-04-26 15:37:56.881641: W tensorflow/core/framework/local_rendezvous.cc:404] Local rendezvous is aborting with status: OUT_OF_RANGE: End of sequence\n"
     ]
    },
    {
     "name": "stdout",
     "output_type": "stream",
     "text": [
      "Epoch: 0, Batch: 15 / 30, Time Stamp: 1055.7455956935883\n",
      "\taccuracy: 0.3794247806072235\n"
     ]
    },
    {
     "name": "stderr",
     "output_type": "stream",
     "text": [
      "2024-04-26 15:39:10.054974: W tensorflow/core/framework/local_rendezvous.cc:404] Local rendezvous is aborting with status: OUT_OF_RANGE: End of sequence\n"
     ]
    },
    {
     "name": "stdout",
     "output_type": "stream",
     "text": [
      "Epoch: 0, Batch: 16 / 30, Time Stamp: 1128.918863773346\n",
      "\taccuracy: 0.41261062026023865\n"
     ]
    },
    {
     "name": "stderr",
     "output_type": "stream",
     "text": [
      "2024-04-26 15:40:17.709488: W tensorflow/core/framework/local_rendezvous.cc:404] Local rendezvous is aborting with status: OUT_OF_RANGE: End of sequence\n"
     ]
    },
    {
     "name": "stdout",
     "output_type": "stream",
     "text": [
      "Epoch: 0, Batch: 17 / 30, Time Stamp: 1196.5733196735382\n",
      "\taccuracy: 0.451880544424057\n"
     ]
    },
    {
     "name": "stderr",
     "output_type": "stream",
     "text": [
      "2024-04-26 15:41:25.546967: W tensorflow/core/framework/local_rendezvous.cc:404] Local rendezvous is aborting with status: OUT_OF_RANGE: End of sequence\n"
     ]
    },
    {
     "name": "stdout",
     "output_type": "stream",
     "text": [
      "Epoch: 0, Batch: 18 / 30, Time Stamp: 1264.4107003211975\n",
      "\taccuracy: 0.4933628439903259\n"
     ]
    },
    {
     "name": "stderr",
     "output_type": "stream",
     "text": [
      "2024-04-26 15:42:33.810712: W tensorflow/core/framework/local_rendezvous.cc:404] Local rendezvous is aborting with status: OUT_OF_RANGE: End of sequence\n"
     ]
    },
    {
     "name": "stdout",
     "output_type": "stream",
     "text": [
      "Epoch: 0, Batch: 19 / 30, Time Stamp: 1332.6749150753021\n",
      "\taccuracy: 0.5221238732337952\n"
     ]
    },
    {
     "name": "stderr",
     "output_type": "stream",
     "text": [
      "2024-04-26 15:43:46.661953: W tensorflow/core/framework/local_rendezvous.cc:404] Local rendezvous is aborting with status: OUT_OF_RANGE: End of sequence\n"
     ]
    },
    {
     "name": "stdout",
     "output_type": "stream",
     "text": [
      "Epoch: 0, Batch: 20 / 30, Time Stamp: 1405.525713443756\n",
      "\taccuracy: 0.5365044474601746\n"
     ]
    },
    {
     "name": "stderr",
     "output_type": "stream",
     "text": [
      "2024-04-26 15:44:54.080379: W tensorflow/core/framework/local_rendezvous.cc:404] Local rendezvous is aborting with status: OUT_OF_RANGE: End of sequence\n"
     ]
    },
    {
     "name": "stdout",
     "output_type": "stream",
     "text": [
      "Epoch: 0, Batch: 21 / 30, Time Stamp: 1472.944087266922\n",
      "\taccuracy: 0.5553097128868103\n"
     ]
    },
    {
     "name": "stderr",
     "output_type": "stream",
     "text": [
      "2024-04-26 15:46:01.651246: W tensorflow/core/framework/local_rendezvous.cc:404] Local rendezvous is aborting with status: OUT_OF_RANGE: End of sequence\n"
     ]
    },
    {
     "name": "stdout",
     "output_type": "stream",
     "text": [
      "Epoch: 0, Batch: 22 / 30, Time Stamp: 1540.5149257183075\n",
      "\taccuracy: 0.5636062026023865\n"
     ]
    },
    {
     "name": "stderr",
     "output_type": "stream",
     "text": [
      "2024-04-26 15:47:10.968213: W tensorflow/core/framework/local_rendezvous.cc:404] Local rendezvous is aborting with status: OUT_OF_RANGE: End of sequence\n"
     ]
    },
    {
     "name": "stdout",
     "output_type": "stream",
     "text": [
      "Epoch: 0, Batch: 23 / 30, Time Stamp: 1609.8318963050842\n",
      "\taccuracy: 0.571349561214447\n"
     ]
    },
    {
     "name": "stderr",
     "output_type": "stream",
     "text": [
      "2024-04-26 15:48:23.901182: W tensorflow/core/framework/local_rendezvous.cc:404] Local rendezvous is aborting with status: OUT_OF_RANGE: End of sequence\n"
     ]
    },
    {
     "name": "stdout",
     "output_type": "stream",
     "text": [
      "Epoch: 0, Batch: 24 / 30, Time Stamp: 1682.7653839588165\n",
      "\taccuracy: 0.5818583965301514\n"
     ]
    },
    {
     "name": "stderr",
     "output_type": "stream",
     "text": [
      "2024-04-26 15:49:33.029080: W tensorflow/core/framework/local_rendezvous.cc:404] Local rendezvous is aborting with status: OUT_OF_RANGE: End of sequence\n"
     ]
    },
    {
     "name": "stdout",
     "output_type": "stream",
     "text": [
      "Epoch: 0, Batch: 25 / 30, Time Stamp: 1751.8927001953125\n",
      "\taccuracy: 0.5923672318458557\n"
     ]
    },
    {
     "name": "stderr",
     "output_type": "stream",
     "text": [
      "2024-04-26 15:50:41.049063: W tensorflow/core/framework/local_rendezvous.cc:404] Local rendezvous is aborting with status: OUT_OF_RANGE: End of sequence\n"
     ]
    },
    {
     "name": "stdout",
     "output_type": "stream",
     "text": [
      "Epoch: 0, Batch: 26 / 30, Time Stamp: 1819.9127042293549\n",
      "\taccuracy: 0.6100663542747498\n"
     ]
    },
    {
     "name": "stderr",
     "output_type": "stream",
     "text": [
      "2024-04-26 15:51:49.092682: W tensorflow/core/framework/local_rendezvous.cc:404] Local rendezvous is aborting with status: OUT_OF_RANGE: End of sequence\n"
     ]
    },
    {
     "name": "stdout",
     "output_type": "stream",
     "text": [
      "Epoch: 0, Batch: 27 / 30, Time Stamp: 1887.9565889835358\n",
      "\taccuracy: 0.6299778819084167\n"
     ]
    },
    {
     "name": "stderr",
     "output_type": "stream",
     "text": [
      "2024-04-26 15:53:02.865500: W tensorflow/core/framework/local_rendezvous.cc:404] Local rendezvous is aborting with status: OUT_OF_RANGE: End of sequence\n"
     ]
    },
    {
     "name": "stdout",
     "output_type": "stream",
     "text": [
      "Epoch: 0, Batch: 28 / 30, Time Stamp: 1961.7292737960815\n",
      "\taccuracy: 0.6493362784385681\n",
      "Epoch: 0, Batch: 29 / 30, Time Stamp: 2030.1340026855469\n",
      "Total plaintext training time: 2030.1345376968384 seconds\n"
     ]
    },
    {
     "name": "stderr",
     "output_type": "stream",
     "text": [
      "2024-04-26 15:54:11.269970: W tensorflow/core/framework/local_rendezvous.cc:404] Local rendezvous is aborting with status: OUT_OF_RANGE: End of sequence\n"
     ]
    }
   ],
   "source": [
    "epochs = 1\n",
    "start_time = time.time()\n",
    "\n",
    "# Set up tensorboard logging.\n",
    "stamp = datetime.now().strftime(\"%Y%m%d-%H%M%S\")\n",
    "logdir = \"/tmp/tflogs/pt-%s\" % stamp\n",
    "print(f\"To start tensorboard, run: tensorboard --logdir /tmp/tflogs\")\n",
    "writer = tf.summary.create_file_writer(logdir)\n",
    "\n",
    "for epoch in range(epochs):\n",
    "    print(\"\\nStart of epoch %d\" % (epoch,))\n",
    "\n",
    "    # Iterate over the batches of the dataset.\n",
    "    for step, (x_batch, y_batch) in enumerate(train_dataset.take(batch_size)):\n",
    "        print(\n",
    "            f\"Epoch: {epoch}, Batch: {step} / {len(train_dataset)}, Time Stamp: {time.time() - start_time}\"\n",
    "        )\n",
    "\n",
    "        # Skip the last batch if it is not full for performance.\n",
    "        if x_batch.shape[0] != batch_size:\n",
    "            break\n",
    "\n",
    "        # If using deferred execution, one can trace and profile the training.\n",
    "        # tf.summary.trace_on(graph=True, profiler=True, profiler_outdir=logdir)\n",
    "\n",
    "        train_step_wrapper(x_batch, y_batch)\n",
    "\n",
    "        # with writer.as_default():\n",
    "        #     tf.summary.trace_export(\n",
    "        #         name=\"tf_shell_example_label_dp_sgd\", step=(epoch + 1) * step\n",
    "        #     )\n",
    "\n",
    "        # Check the accuracy.\n",
    "        average_loss = 0\n",
    "        average_accuracy = 0\n",
    "        for x, y in val_dataset:\n",
    "            y_pred = model(x, training=False)\n",
    "            accuracy = tf.reduce_mean(\n",
    "                tf.cast(\n",
    "                    tf.equal(tf.argmax(y, axis=1), tf.argmax(y_pred, axis=1)), tf.float32\n",
    "                )\n",
    "            )\n",
    "            average_accuracy += accuracy\n",
    "        average_loss /= len(val_dataset)\n",
    "        average_accuracy /= len(val_dataset)\n",
    "        tf.print(f\"\\taccuracy: {accuracy}\")\n",
    "\n",
    "        with writer.as_default():\n",
    "            tf.summary.scalar(\"loss\", average_loss, step=(epoch + 1) * batch_size - 1)\n",
    "            tf.summary.scalar(\n",
    "                \"accuracy\", average_accuracy, step=(epoch + 1) * batch_size - 1\n",
    "            )\n",
    "\n",
    "\n",
    "print(f\"Total plaintext training time: {time.time() - start_time} seconds\")"
   ]
  }
 ],
 "metadata": {
  "kernelspec": {
   "display_name": ".venv",
   "language": "python",
   "name": "python3"
  },
  "language_info": {
   "codemirror_mode": {
    "name": "ipython",
    "version": 3
   },
   "file_extension": ".py",
   "mimetype": "text/x-python",
   "name": "python",
   "nbconvert_exporter": "python",
   "pygments_lexer": "ipython3",
   "version": "3.10.12"
  },
  "orig_nbformat": 4
 },
 "nbformat": 4,
 "nbformat_minor": 2
}
