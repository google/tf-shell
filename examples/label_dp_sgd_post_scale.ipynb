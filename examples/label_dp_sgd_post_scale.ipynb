{
 "cells": [
  {
   "cell_type": "markdown",
   "metadata": {},
   "source": [
    "# Label DP SGD (Post Scale)\n",
    "\n",
    "This notebook walks through how to train a model to recognize hand written\n",
    "digits using label differentially private gradient decent and the MNIST dataset.\n",
    "In this setting, one party has the images and the other party has the labels.\n",
    "They would like to collaborate to train a model without revealing their data.\n",
    "\n",
    "This colab uses the post-scale approach to training.\n",
    "\n",
    "Before starting, install the tf-shell package.\n",
    "\n",
    "```bash\n",
    "pip install tf-shell\n",
    "```"
   ]
  },
  {
   "cell_type": "markdown",
   "metadata": {},
   "source": [
    "First, import some modules and set up tf-shell. The parameters are for the SHELL\n",
    "encryption library, which tf-shell uses, and mostly depend on the multiplicative\n",
    "depth of the computation to be performed. This example performs back\n",
    "propagation, thus the multiplicative depth is determined by the number of\n",
    "layers. For more information, see [SHELL](https://github.com/google/shell)."
   ]
  },
  {
   "cell_type": "code",
   "execution_count": 1,
   "metadata": {},
   "outputs": [
    {
     "name": "stderr",
     "output_type": "stream",
     "text": [
      "2024-06-10 21:55:22.590363: I tensorflow/core/util/port.cc:113] oneDNN custom operations are on. You may see slightly different numerical results due to floating-point round-off errors from different computation orders. To turn them off, set the environment variable `TF_ENABLE_ONEDNN_OPTS=0`.\n",
      "2024-06-10 21:55:22.590673: I external/local_tsl/tsl/cuda/cudart_stub.cc:32] Could not find cuda drivers on your machine, GPU will not be used.\n",
      "2024-06-10 21:55:22.592479: I external/local_tsl/tsl/cuda/cudart_stub.cc:32] Could not find cuda drivers on your machine, GPU will not be used.\n",
      "2024-06-10 21:55:22.618681: I tensorflow/core/platform/cpu_feature_guard.cc:210] This TensorFlow binary is optimized to use available CPU instructions in performance-critical operations.\n",
      "To enable the following instructions: AVX2 AVX512F AVX512_VNNI FMA, in other operations, rebuild TensorFlow with the appropriate compiler flags.\n",
      "2024-06-10 21:55:23.196862: W tensorflow/compiler/tf2tensorrt/utils/py_utils.cc:38] TF-TRT Warning: Could not find TensorRT\n"
     ]
    }
   ],
   "source": [
    "import time\n",
    "from datetime import datetime\n",
    "import tensorflow as tf\n",
    "import keras\n",
    "import numpy as np\n",
    "import tf_shell\n",
    "import tf_shell_ml\n",
    "import os"
   ]
  },
  {
   "cell_type": "code",
   "execution_count": 2,
   "metadata": {},
   "outputs": [],
   "source": [
    "# Num plaintext bits: 19, noise bits: 40\n",
    "# Max representable value: 61895\n",
    "context = tf_shell.create_context64(\n",
    "    log_n=11,\n",
    "    main_moduli=[576460752303439873],\n",
    "    plaintext_modulus=557057,\n",
    "    scaling_factor=3,\n",
    "    mul_depth_supported=1,\n",
    ")\n",
    "# 121 bits of security according to lattice estimator primal_bdd.\n",
    "\n",
    "# Create the secret key for encryption and a rotation key (rotation key is\n",
    "# an auxilary key required for operations like roll or matmul).\n",
    "secret_key = tf_shell.create_key64(context)\n",
    "public_rotation_key = tf_shell.create_rotation_key64(context, secret_key)\n",
    "\n",
    "# The batch size is determined by the ciphertext parameters, specifically the\n",
    "# schemes polynomial's ring degree because tf-shell uses batch axis packing.\n",
    "# Furthermore, two micro-batches to run in parallel.\n",
    "batch_size = context.num_slots"
   ]
  },
  {
   "cell_type": "markdown",
   "metadata": {},
   "source": [
    "Setup MNIST dataset."
   ]
  },
  {
   "cell_type": "code",
   "execution_count": 3,
   "metadata": {},
   "outputs": [],
   "source": [
    "(x_train, y_train), (x_test, y_test) = keras.datasets.mnist.load_data()\n",
    "x_train, x_test = np.reshape(x_train, (-1, 784)), np.reshape(x_test, (-1, 784))\n",
    "x_train, x_test = x_train / np.float32(255.0), x_test / np.float32(255.0)\n",
    "y_train, y_test = tf.one_hot(y_train, 10), tf.one_hot(y_test, 10)\n",
    "\n",
    "epochs = 1\n",
    "train_dataset = tf.data.Dataset.from_tensor_slices((x_train, y_train))\n",
    "train_dataset = (\n",
    "    train_dataset.shuffle(buffer_size=2048)\n",
    "    .batch(batch_size, drop_remainder=True)\n",
    "    .repeat(count=epochs)\n",
    ")\n",
    "\n",
    "val_dataset = tf.data.Dataset.from_tensor_slices((x_test, y_test))\n",
    "val_dataset = val_dataset.batch(batch_size, drop_remainder=True)"
   ]
  },
  {
   "cell_type": "markdown",
   "metadata": {},
   "source": [
    "Create a simple model with a hidden layer of size 64 and an output layer\n",
    "of size 10 (for each of the 10 digits)."
   ]
  },
  {
   "cell_type": "code",
   "execution_count": 4,
   "metadata": {},
   "outputs": [],
   "source": [
    "mnist_layers = [\n",
    "    tf.keras.layers.Dense(64, activation=\"relu\"),\n",
    "    tf.keras.layers.Dense(10, activation=\"sigmoid\"),\n",
    "]\n",
    "\n",
    "model = keras.Sequential(mnist_layers)\n",
    "model.compile(\n",
    "    optimizer=\"adam\",\n",
    "    metrics=[\"accuracy\"],\n",
    ")"
   ]
  },
  {
   "cell_type": "markdown",
   "metadata": {},
   "source": [
    "Next, define the `train_step` function which will be called for each batch on an\n",
    "encrypted batch of labels, y. The function first does a forward on the plaintext\n",
    "image x to compute a predicted label, then does backpropagation using the\n",
    "encrypted label y."
   ]
  },
  {
   "cell_type": "code",
   "execution_count": 5,
   "metadata": {},
   "outputs": [],
   "source": [
    "@tf.function\n",
    "def train_step(x, y):\n",
    "    \"\"\"One step of training with using the \"post scale\" approach.\n",
    "\n",
    "    High level idea:\n",
    "    For each output class, backprop to compute the gradient but exclude the loss\n",
    "    function. Now we have a _vector_ of model updates for one sample. The real\n",
    "    gradient update for the sample is a linear combination of the vector of\n",
    "    weight updates whose scale is determined by dJ_dyhat (the derivative of the\n",
    "    loss with respect to the predicted output yhat). Effectively, we have\n",
    "    factored out dJ_dyhat from the gradient. Separating out dJ_dyhat allows us\n",
    "    to scale the weight updates easily when the label is secret and the gradient\n",
    "    must be computed under encryption / multiparty computation because the\n",
    "    multiplicative depth of the computation is 1, however the number of\n",
    "    multiplications required now depends on the model size AND the number of\n",
    "    output classes. In contrast, standard backpropagation only requires\n",
    "    multiplications proportional to the model size, howver the multiplicative\n",
    "    depth is proportional to the model depth.\n",
    "    \"\"\"\n",
    "\n",
    "    # Unset the activation function for the last layer so it is not used in\n",
    "    # computing the gradient. The effect of the last layer activation function\n",
    "    # is factored out of the gradient computation and accounted for below.\n",
    "    model.layers[-1].activation = tf.keras.activations.linear\n",
    "\n",
    "    with tf.GradientTape() as tape:\n",
    "        y_pred = model(x, training=True)  # forward pass\n",
    "    grads = tape.jacobian(y_pred, model.trainable_weights)\n",
    "    # ^  layers list x (batch size x num output classes x weights) matrix\n",
    "    # dy_pred_j/dW_sample_class\n",
    "\n",
    "\n",
    "    # Reset the activation function for the last layer and compute the real\n",
    "    # prediction.\n",
    "    model.layers[-1].activation = tf.keras.activations.sigmoid\n",
    "    y_pred = model(x, training=False)\n",
    "\n",
    "    # Compute y_pred - y (where y is encrypted).\n",
    "    scalars = y.__rsub__(y_pred)  # dJ/dy_pred\n",
    "    # ^  batch_size x num output classes.\n",
    "\n",
    "    # Expand the last dim so that the subsequent multiplication is\n",
    "    # broadcasted.\n",
    "    scalars = tf_shell.expand_dims(scalars, axis=-1)\n",
    "    # ^ batch_size x num output classes x 1\n",
    "\n",
    "    # Scale each gradient. Since 'scalars' may be a vector of ciphertexts, this\n",
    "    # requires multiplying plaintext gradient for the specific layer (2d) by the\n",
    "    # ciphertext (scalar). To do so efficiently under encryption requires\n",
    "    # flattening and packing the weights, as shown below.\n",
    "    ps_grads = []\n",
    "    for layer_grad_full in grads:\n",
    "        # Remember the original shape of the gradient in order to unpack them\n",
    "        # after the multiplication so they can be applied to the model.\n",
    "        batch_sz = layer_grad_full.shape[0]\n",
    "        num_output_classes = layer_grad_full.shape[1]\n",
    "        grad_shape = layer_grad_full.shape[2:]\n",
    "\n",
    "        packable_grad = tf.reshape(layer_grad_full, [batch_sz, num_output_classes, -1])\n",
    "        # ^  batch_size x num output classes x flattened weights\n",
    "\n",
    "        # Scale the gradient precursors.\n",
    "        scaled_grad = scalars * packable_grad\n",
    "        # ^ dJ/dW = dJ/dy_pred * dy_pred/dW \n",
    "\n",
    "        # Sum over the output classes.\n",
    "        scaled_grad = tf_shell.reduce_sum(scaled_grad, axis=1)\n",
    "        # ^  batch_size x 1 x flattened weights\n",
    "\n",
    "        # In the real world, this approach would also likely require clipping\n",
    "        # the gradient, aggregation, and adding DP noise.\n",
    "\n",
    "        # Reshape to remove the '1' dimension in the middle.\n",
    "        scaled_grad = tf_shell.reshape(scaled_grad, [batch_sz] + grad_shape)\n",
    "        # ^  batch_size x weights\n",
    "\n",
    "        # Sum over the batch.\n",
    "        scaled_grad = tf_shell.reduce_sum(scaled_grad, axis=0, rotation_key=public_rotation_key)\n",
    "        # ^  batch_size x flattened weights\n",
    "        # Every [i, ...] is the same, the sum over the batching dim axis=0.\n",
    "\n",
    "        ps_grads.append(scaled_grad)\n",
    "\n",
    "    return ps_grads\n",
    "\n",
    "\n",
    "@tf.function\n",
    "def train_step_wrapper(x_batch, y_batch):\n",
    "    # Encrypt\n",
    "    enc_y_batch = tf_shell.to_encrypted(y_batch, secret_key, context)\n",
    "\n",
    "    # Train\n",
    "    ps_grads = train_step(x_batch, enc_y_batch)\n",
    "\n",
    "    # Decrypt\n",
    "    batch_sz = context.num_slots\n",
    "    top_grads = [tf_shell.to_tensorflow(enc_g, secret_key)[0] for enc_g in ps_grads]\n",
    "    bottom_grads = [tf_shell.to_tensorflow(enc_g, secret_key)[batch_sz // 2] for enc_g in ps_grads]\n",
    "    # ^ take the first element of each batch because the grad sum is repeated over the batching dim.\n",
    "\n",
    "    model.optimizer.apply_gradients(\n",
    "        zip(\n",
    "            top_grads,\n",
    "            model.trainable_weights\n",
    "        )\n",
    "    )\n",
    "    model.optimizer.apply_gradients(\n",
    "        zip(\n",
    "            bottom_grads,\n",
    "            model.trainable_weights\n",
    "        )\n",
    "    )"
   ]
  },
  {
   "cell_type": "markdown",
   "metadata": {},
   "source": [
    "Here is the training loop. Each inner iteration runs a batch of size 2^(11),\n",
    "then meaures the model accuracy.\n",
    "\n",
    "Tensorboard can be used to visualize the training progress. See cell output for\n",
    "command to start tensorboard."
   ]
  },
  {
   "cell_type": "code",
   "execution_count": 6,
   "metadata": {},
   "outputs": [
    {
     "name": "stdout",
     "output_type": "stream",
     "text": [
      "To start tensorboard, run: tensorboard --logdir /tmp/tflogs --host 0.0.0.0\n",
      "\ttensorboard profiling requires: pip install tensorboard_plugin_profile\n",
      "Batch: 0 / 29, Time Stamp: 0.07114076614379883\n"
     ]
    },
    {
     "name": "stderr",
     "output_type": "stream",
     "text": [
      "2024-06-10 21:55:24.765112: I external/local_tsl/tsl/profiler/lib/profiler_session.cc:104] Profiler session initializing.\n",
      "2024-06-10 21:55:24.765142: I external/local_tsl/tsl/profiler/lib/profiler_session.cc:119] Profiler session started.\n"
     ]
    },
    {
     "name": "stdout",
     "output_type": "stream",
     "text": [
      "WARNING:tensorflow:Error while stopping profiler: Cannot export profiling results. No profiler is running.\n",
      "\taccuracy: 0.07861328125\n"
     ]
    },
    {
     "name": "stderr",
     "output_type": "stream",
     "text": [
      "2024-06-10 21:56:43.385829: I external/local_tsl/tsl/profiler/lib/profiler_session.cc:70] Profiler session collecting data.\n",
      "2024-06-10 21:56:43.396207: I external/local_tsl/tsl/profiler/lib/profiler_session.cc:131] Profiler session tear down.\n",
      "2024-06-10 21:56:43.397087: I external/local_tsl/tsl/profiler/rpc/client/save_profile.cc:144] Collecting XSpace to repository: /workspaces/tf-shell/examples/tflogs/post-scale-20240610-215524/plugins/profile/2024_06_10_21_56_43/e64b0b6b3843.xplane.pb\n",
      "2024-06-10 21:56:43.457550: W tensorflow/core/framework/local_rendezvous.cc:404] Local rendezvous is aborting with status: OUT_OF_RANGE: End of sequence\n"
     ]
    },
    {
     "name": "stdout",
     "output_type": "stream",
     "text": [
      "Batch: 1 / 29, Time Stamp: 78.8082582950592\n",
      "\taccuracy: 0.0966796875\n"
     ]
    },
    {
     "name": "stderr",
     "output_type": "stream",
     "text": [
      "2024-06-10 21:57:44.839372: W tensorflow/core/framework/local_rendezvous.cc:404] Local rendezvous is aborting with status: OUT_OF_RANGE: End of sequence\n"
     ]
    },
    {
     "name": "stdout",
     "output_type": "stream",
     "text": [
      "Batch: 2 / 29, Time Stamp: 140.14883470535278\n",
      "\taccuracy: 0.11572265625\n"
     ]
    },
    {
     "name": "stderr",
     "output_type": "stream",
     "text": [
      "2024-06-10 21:58:47.916557: W tensorflow/core/framework/local_rendezvous.cc:404] Local rendezvous is aborting with status: OUT_OF_RANGE: End of sequence\n"
     ]
    },
    {
     "name": "stdout",
     "output_type": "stream",
     "text": [
      "Batch: 3 / 29, Time Stamp: 203.22569370269775\n",
      "\taccuracy: 0.14111328125\n"
     ]
    },
    {
     "name": "stderr",
     "output_type": "stream",
     "text": [
      "2024-06-10 21:59:46.291334: W tensorflow/core/framework/local_rendezvous.cc:404] Local rendezvous is aborting with status: OUT_OF_RANGE: End of sequence\n"
     ]
    },
    {
     "name": "stdout",
     "output_type": "stream",
     "text": [
      "Batch: 4 / 29, Time Stamp: 261.60073924064636\n",
      "\taccuracy: 0.17041015625\n"
     ]
    },
    {
     "name": "stderr",
     "output_type": "stream",
     "text": [
      "2024-06-10 22:00:43.119037: W tensorflow/core/framework/local_rendezvous.cc:404] Local rendezvous is aborting with status: OUT_OF_RANGE: End of sequence\n"
     ]
    },
    {
     "name": "stdout",
     "output_type": "stream",
     "text": [
      "Batch: 5 / 29, Time Stamp: 318.4287750720978\n",
      "\taccuracy: 0.205078125\n"
     ]
    },
    {
     "name": "stderr",
     "output_type": "stream",
     "text": [
      "2024-06-10 22:01:41.184261: W tensorflow/core/framework/local_rendezvous.cc:404] Local rendezvous is aborting with status: OUT_OF_RANGE: End of sequence\n"
     ]
    },
    {
     "name": "stdout",
     "output_type": "stream",
     "text": [
      "Batch: 6 / 29, Time Stamp: 376.4937229156494\n",
      "\taccuracy: 0.236328125\n"
     ]
    },
    {
     "name": "stderr",
     "output_type": "stream",
     "text": [
      "2024-06-10 22:02:38.663447: W tensorflow/core/framework/local_rendezvous.cc:404] Local rendezvous is aborting with status: OUT_OF_RANGE: End of sequence\n"
     ]
    },
    {
     "name": "stdout",
     "output_type": "stream",
     "text": [
      "Batch: 7 / 29, Time Stamp: 433.9729034900665\n",
      "\taccuracy: 0.27001953125\n"
     ]
    },
    {
     "name": "stderr",
     "output_type": "stream",
     "text": [
      "2024-06-10 22:03:36.325330: W tensorflow/core/framework/local_rendezvous.cc:404] Local rendezvous is aborting with status: OUT_OF_RANGE: End of sequence\n"
     ]
    },
    {
     "name": "stdout",
     "output_type": "stream",
     "text": [
      "Batch: 8 / 29, Time Stamp: 491.6346232891083\n",
      "\taccuracy: 0.39208984375\n"
     ]
    },
    {
     "name": "stderr",
     "output_type": "stream",
     "text": [
      "2024-06-10 22:04:34.804192: W tensorflow/core/framework/local_rendezvous.cc:404] Local rendezvous is aborting with status: OUT_OF_RANGE: End of sequence\n"
     ]
    },
    {
     "name": "stdout",
     "output_type": "stream",
     "text": [
      "Batch: 9 / 29, Time Stamp: 550.1134612560272\n",
      "\taccuracy: 0.5087890625\n"
     ]
    },
    {
     "name": "stderr",
     "output_type": "stream",
     "text": [
      "2024-06-10 22:05:31.525443: W tensorflow/core/framework/local_rendezvous.cc:404] Local rendezvous is aborting with status: OUT_OF_RANGE: End of sequence\n"
     ]
    },
    {
     "name": "stdout",
     "output_type": "stream",
     "text": [
      "Batch: 10 / 29, Time Stamp: 606.834728717804\n",
      "\taccuracy: 0.55224609375\n"
     ]
    },
    {
     "name": "stderr",
     "output_type": "stream",
     "text": [
      "2024-06-10 22:06:28.600805: W tensorflow/core/framework/local_rendezvous.cc:404] Local rendezvous is aborting with status: OUT_OF_RANGE: End of sequence\n"
     ]
    },
    {
     "name": "stdout",
     "output_type": "stream",
     "text": [
      "Batch: 11 / 29, Time Stamp: 663.9102034568787\n",
      "\taccuracy: 0.55419921875\n"
     ]
    },
    {
     "name": "stderr",
     "output_type": "stream",
     "text": [
      "2024-06-10 22:07:25.919843: W tensorflow/core/framework/local_rendezvous.cc:404] Local rendezvous is aborting with status: OUT_OF_RANGE: End of sequence\n"
     ]
    },
    {
     "name": "stdout",
     "output_type": "stream",
     "text": [
      "Batch: 12 / 29, Time Stamp: 721.229740858078\n",
      "\taccuracy: 0.57177734375\n"
     ]
    },
    {
     "name": "stderr",
     "output_type": "stream",
     "text": [
      "2024-06-10 22:08:23.280634: W tensorflow/core/framework/local_rendezvous.cc:404] Local rendezvous is aborting with status: OUT_OF_RANGE: End of sequence\n"
     ]
    },
    {
     "name": "stdout",
     "output_type": "stream",
     "text": [
      "Batch: 13 / 29, Time Stamp: 778.5899968147278\n",
      "\taccuracy: 0.6083984375\n"
     ]
    },
    {
     "name": "stderr",
     "output_type": "stream",
     "text": [
      "2024-06-10 22:09:20.475956: W tensorflow/core/framework/local_rendezvous.cc:404] Local rendezvous is aborting with status: OUT_OF_RANGE: End of sequence\n"
     ]
    },
    {
     "name": "stdout",
     "output_type": "stream",
     "text": [
      "Batch: 14 / 29, Time Stamp: 835.7853996753693\n",
      "\taccuracy: 0.64404296875\n"
     ]
    },
    {
     "name": "stderr",
     "output_type": "stream",
     "text": [
      "2024-06-10 22:10:17.289818: W tensorflow/core/framework/local_rendezvous.cc:404] Local rendezvous is aborting with status: OUT_OF_RANGE: End of sequence\n"
     ]
    },
    {
     "name": "stdout",
     "output_type": "stream",
     "text": [
      "Batch: 15 / 29, Time Stamp: 892.5991945266724\n",
      "\taccuracy: 0.68896484375\n"
     ]
    },
    {
     "name": "stderr",
     "output_type": "stream",
     "text": [
      "2024-06-10 22:11:14.235364: W tensorflow/core/framework/local_rendezvous.cc:404] Local rendezvous is aborting with status: OUT_OF_RANGE: End of sequence\n"
     ]
    },
    {
     "name": "stdout",
     "output_type": "stream",
     "text": [
      "Batch: 16 / 29, Time Stamp: 949.5446727275848\n",
      "\taccuracy: 0.72509765625\n"
     ]
    },
    {
     "name": "stderr",
     "output_type": "stream",
     "text": [
      "2024-06-10 22:12:11.477066: W tensorflow/core/framework/local_rendezvous.cc:404] Local rendezvous is aborting with status: OUT_OF_RANGE: End of sequence\n"
     ]
    },
    {
     "name": "stdout",
     "output_type": "stream",
     "text": [
      "Batch: 17 / 29, Time Stamp: 1006.7864482402802\n",
      "\taccuracy: 0.74365234375\n"
     ]
    },
    {
     "name": "stderr",
     "output_type": "stream",
     "text": [
      "2024-06-10 22:13:08.782675: W tensorflow/core/framework/local_rendezvous.cc:404] Local rendezvous is aborting with status: OUT_OF_RANGE: End of sequence\n"
     ]
    },
    {
     "name": "stdout",
     "output_type": "stream",
     "text": [
      "Batch: 18 / 29, Time Stamp: 1064.0921244621277\n",
      "\taccuracy: 0.7548828125\n"
     ]
    },
    {
     "name": "stderr",
     "output_type": "stream",
     "text": [
      "2024-06-10 22:14:06.054970: W tensorflow/core/framework/local_rendezvous.cc:404] Local rendezvous is aborting with status: OUT_OF_RANGE: End of sequence\n"
     ]
    },
    {
     "name": "stdout",
     "output_type": "stream",
     "text": [
      "Batch: 19 / 29, Time Stamp: 1121.3647689819336\n",
      "\taccuracy: 0.763671875\n"
     ]
    },
    {
     "name": "stderr",
     "output_type": "stream",
     "text": [
      "2024-06-10 22:15:04.266183: W tensorflow/core/framework/local_rendezvous.cc:404] Local rendezvous is aborting with status: OUT_OF_RANGE: End of sequence\n"
     ]
    },
    {
     "name": "stdout",
     "output_type": "stream",
     "text": [
      "Batch: 20 / 29, Time Stamp: 1179.5777134895325\n",
      "\taccuracy: 0.77734375\n"
     ]
    },
    {
     "name": "stderr",
     "output_type": "stream",
     "text": [
      "2024-06-10 22:16:01.601114: W tensorflow/core/framework/local_rendezvous.cc:404] Local rendezvous is aborting with status: OUT_OF_RANGE: End of sequence\n"
     ]
    },
    {
     "name": "stdout",
     "output_type": "stream",
     "text": [
      "Batch: 21 / 29, Time Stamp: 1236.9104754924774\n",
      "\taccuracy: 0.78857421875\n"
     ]
    },
    {
     "name": "stderr",
     "output_type": "stream",
     "text": [
      "2024-06-10 22:16:59.192321: W tensorflow/core/framework/local_rendezvous.cc:404] Local rendezvous is aborting with status: OUT_OF_RANGE: End of sequence\n"
     ]
    },
    {
     "name": "stdout",
     "output_type": "stream",
     "text": [
      "Batch: 22 / 29, Time Stamp: 1294.5017142295837\n",
      "\taccuracy: 0.80078125\n"
     ]
    },
    {
     "name": "stderr",
     "output_type": "stream",
     "text": [
      "2024-06-10 22:17:57.075967: W tensorflow/core/framework/local_rendezvous.cc:404] Local rendezvous is aborting with status: OUT_OF_RANGE: End of sequence\n"
     ]
    },
    {
     "name": "stdout",
     "output_type": "stream",
     "text": [
      "Batch: 23 / 29, Time Stamp: 1352.38556599617\n",
      "\taccuracy: 0.8115234375\n"
     ]
    },
    {
     "name": "stderr",
     "output_type": "stream",
     "text": [
      "2024-06-10 22:18:54.139450: W tensorflow/core/framework/local_rendezvous.cc:404] Local rendezvous is aborting with status: OUT_OF_RANGE: End of sequence\n"
     ]
    },
    {
     "name": "stdout",
     "output_type": "stream",
     "text": [
      "Batch: 24 / 29, Time Stamp: 1409.4490039348602\n",
      "\taccuracy: 0.82421875\n"
     ]
    },
    {
     "name": "stderr",
     "output_type": "stream",
     "text": [
      "2024-06-10 22:19:50.059527: W tensorflow/core/framework/local_rendezvous.cc:404] Local rendezvous is aborting with status: OUT_OF_RANGE: End of sequence\n"
     ]
    },
    {
     "name": "stdout",
     "output_type": "stream",
     "text": [
      "Batch: 25 / 29, Time Stamp: 1465.369089603424\n",
      "\taccuracy: 0.83251953125\n"
     ]
    },
    {
     "name": "stderr",
     "output_type": "stream",
     "text": [
      "2024-06-10 22:20:47.868621: W tensorflow/core/framework/local_rendezvous.cc:404] Local rendezvous is aborting with status: OUT_OF_RANGE: End of sequence\n"
     ]
    },
    {
     "name": "stdout",
     "output_type": "stream",
     "text": [
      "Batch: 26 / 29, Time Stamp: 1523.1779313087463\n",
      "\taccuracy: 0.84033203125\n"
     ]
    },
    {
     "name": "stderr",
     "output_type": "stream",
     "text": [
      "2024-06-10 22:21:44.155515: W tensorflow/core/framework/local_rendezvous.cc:404] Local rendezvous is aborting with status: OUT_OF_RANGE: End of sequence\n"
     ]
    },
    {
     "name": "stdout",
     "output_type": "stream",
     "text": [
      "Batch: 27 / 29, Time Stamp: 1579.4650423526764\n",
      "\taccuracy: 0.84228515625\n"
     ]
    },
    {
     "name": "stderr",
     "output_type": "stream",
     "text": [
      "2024-06-10 22:22:40.935333: W tensorflow/core/framework/local_rendezvous.cc:404] Local rendezvous is aborting with status: OUT_OF_RANGE: End of sequence\n"
     ]
    },
    {
     "name": "stdout",
     "output_type": "stream",
     "text": [
      "Batch: 28 / 29, Time Stamp: 1636.244945526123\n",
      "\taccuracy: 0.84423828125\n",
      "Total training time: 1693.0756685733795 seconds\n"
     ]
    },
    {
     "name": "stderr",
     "output_type": "stream",
     "text": [
      "2024-06-10 22:23:37.765942: W tensorflow/core/framework/local_rendezvous.cc:404] Local rendezvous is aborting with status: OUT_OF_RANGE: End of sequence\n",
      "2024-06-10 22:23:37.768871: W tensorflow/core/framework/local_rendezvous.cc:404] Local rendezvous is aborting with status: OUT_OF_RANGE: End of sequence\n"
     ]
    }
   ],
   "source": [
    "start_time = time.time()\n",
    "\n",
    "# Set up tensorboard logging.\n",
    "stamp = datetime.now().strftime(\"%Y%m%d-%H%M%S\")\n",
    "logdir = os.path.abspath(\"\") + \"/tflogs/post-scale-%s\" % stamp\n",
    "print(f\"To start tensorboard, run: tensorboard --logdir /tmp/tflogs --host 0.0.0.0\")\n",
    "print(f\"\\ttensorboard profiling requires: pip install tensorboard_plugin_profile\")\n",
    "writer = tf.summary.create_file_writer(logdir)\n",
    "\n",
    "# Iterate over the batches of the dataset.\n",
    "for step, (x_batch, y_batch) in enumerate(train_dataset.take(batch_size)):\n",
    "    print(\n",
    "        f\"Batch: {step} / {len(train_dataset)}, Time Stamp: {time.time() - start_time}\"\n",
    "    )\n",
    "\n",
    "    if step == 0:\n",
    "        tf.summary.trace_on(graph=True, profiler=True, profiler_outdir=logdir)\n",
    "\n",
    "    train_step_wrapper(x_batch, y_batch)\n",
    "\n",
    "    if step == 0:\n",
    "        with writer.as_default():\n",
    "            tf.summary.trace_export(name=\"label_dp_sgd_post_scale\", step=step)\n",
    "\n",
    "    # Check the accuracy.\n",
    "    average_loss = 0\n",
    "    average_accuracy = 0\n",
    "    for x, y in val_dataset:\n",
    "        y_pred = model(x, training=False)\n",
    "        loss = tf.reduce_mean(tf.keras.losses.categorical_crossentropy(y, y_pred))\n",
    "        accuracy = tf.reduce_mean(\n",
    "            tf.cast(\n",
    "                tf.equal(tf.argmax(y, axis=1), tf.argmax(y_pred, axis=1)), tf.float32\n",
    "            )\n",
    "        )\n",
    "        average_accuracy += accuracy\n",
    "        average_loss += loss\n",
    "    average_loss /= len(val_dataset)\n",
    "    average_accuracy /= len(val_dataset)\n",
    "    tf.print(f\"\\taccuracy: {accuracy}\")\n",
    "\n",
    "    with writer.as_default():\n",
    "        tf.summary.scalar(\"loss\", average_loss, step=step)\n",
    "        tf.summary.scalar(\"accuracy\", average_accuracy, step=step)\n",
    "\n",
    "\n",
    "print(f\"Total training time: {time.time() - start_time} seconds\")"
   ]
  }
 ],
 "metadata": {
  "kernelspec": {
   "display_name": ".venv",
   "language": "python",
   "name": "python3"
  },
  "language_info": {
   "codemirror_mode": {
    "name": "ipython",
    "version": 3
   },
   "file_extension": ".py",
   "mimetype": "text/x-python",
   "name": "python",
   "nbconvert_exporter": "python",
   "pygments_lexer": "ipython3",
   "version": "3.10.12"
  },
  "orig_nbformat": 4
 },
 "nbformat": 4,
 "nbformat_minor": 2
}
